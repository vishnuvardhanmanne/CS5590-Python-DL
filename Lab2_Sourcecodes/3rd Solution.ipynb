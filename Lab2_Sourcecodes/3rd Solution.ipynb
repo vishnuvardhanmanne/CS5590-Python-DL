{
  "nbformat": 4,
  "nbformat_minor": 0,
  "metadata": {
    "colab": {
      "name": "3rd Solution.ipynb",
      "provenance": []
    },
    "kernelspec": {
      "name": "python3",
      "display_name": "Python 3"
    }
  },
  "cells": [
    {
      "cell_type": "code",
      "metadata": {
        "id": "nN1EvfhY4AUl",
        "colab_type": "code",
        "colab": {
          "base_uri": "https://localhost:8080/",
          "height": 117
        },
        "outputId": "35d8d9a2-2081-41d3-bdef-f3826ce6fbb9"
      },
      "source": [
        "%tensorflow_version 1.15\n",
        "import tensorflow as tf\n",
        "from keras import Sequential\n",
        "import numpy as np\n",
        "from keras.layers import Dense\n",
        "from keras.utils import to_categorical\n",
        "from keras.preprocessing.image import ImageDataGenerator, load_img\n",
        "import os\n",
        "from sklearn.model_selection import train_test_split\n",
        "import matplotlib.pyplot as plt\n",
        "from keras.layers import Dense, Flatten, Dropout, Input\n",
        "from keras.constraints import maxnorm\n",
        "from keras.models import Model\n",
        "from keras.optimizers import SGD, Adam\n",
        "from keras.layers.convolutional import Conv2D, MaxPooling2D\n",
        "from keras.utils import np_utils\n",
        "from keras import backend as K\n",
        "K.common.image_dim_ordering()"
      ],
      "execution_count": 69,
      "outputs": [
        {
          "output_type": "stream",
          "text": [
            "`%tensorflow_version` only switches the major version: 1.x or 2.x.\n",
            "You set: `1.15`. This will be interpreted as: `1.x`.\n",
            "\n",
            "\n",
            "TensorFlow is already loaded. Please restart the runtime to change versions.\n"
          ],
          "name": "stdout"
        },
        {
          "output_type": "execute_result",
          "data": {
            "text/plain": [
              "'tf'"
            ]
          },
          "metadata": {
            "tags": []
          },
          "execution_count": 69
        }
      ]
    },
    {
      "cell_type": "code",
      "metadata": {
        "id": "9v-Ki6okAElT",
        "colab_type": "code",
        "colab": {
          "base_uri": "https://localhost:8080/",
          "height": 33
        },
        "outputId": "33c14096-c3ea-4ed7-dfff-ecbf26f6c1ce"
      },
      "source": [
        "from google.colab import drive\n",
        "drive.mount('/content/drive')"
      ],
      "execution_count": 70,
      "outputs": [
        {
          "output_type": "stream",
          "text": [
            "Drive already mounted at /content/drive; to attempt to forcibly remount, call drive.mount(\"/content/drive\", force_remount=True).\n"
          ],
          "name": "stdout"
        }
      ]
    },
    {
      "cell_type": "code",
      "metadata": {
        "id": "eK553OfDATcN",
        "colab_type": "code",
        "colab": {}
      },
      "source": [
        "label=['airplane','car','cat','dog','flower','fruit','motorbike','person']"
      ],
      "execution_count": 0,
      "outputs": []
    },
    {
      "cell_type": "code",
      "metadata": {
        "id": "sNJZSB5xAYS1",
        "colab_type": "code",
        "colab": {}
      },
      "source": [
        "import glob #airplane images retrieving\n",
        "import cv2\n",
        "train_images=[]\n",
        "c=0\n",
        "for filename in glob.glob('/content/drive/My Drive/pythonlab2/natural_images/airplane/*.jpg'):\n",
        "    imagenormal = cv2.imread(filename)\n",
        "    output = cv2.resize(imagenormal, (28,28))\n",
        "    train_images.append([output,0])"
      ],
      "execution_count": 0,
      "outputs": []
    },
    {
      "cell_type": "code",
      "metadata": {
        "id": "LgmpDCHfCXOu",
        "colab_type": "code",
        "colab": {}
      },
      "source": [
        "for filename in glob.glob('/content/drive/My Drive/pythonlab2/natural_images/car/*.jpg'):#car images retrieving\n",
        "    imagenormal = cv2.imread(filename)\n",
        "    output1 = cv2.resize(imagenormal, (28,28))\n",
        "    train_images.append([output1,1])    "
      ],
      "execution_count": 0,
      "outputs": []
    },
    {
      "cell_type": "code",
      "metadata": {
        "id": "n3qpR902CaJ1",
        "colab_type": "code",
        "colab": {}
      },
      "source": [
        "for filename in glob.glob('/content/drive/My Drive/pythonlab2/natural_images/cat/*.jpg'):#cat images retrieving\n",
        "    imagenormal = cv2.imread(filename)\n",
        "    output1 = cv2.resize(imagenormal, (28,28))\n",
        "    train_images.append([output1,2])    "
      ],
      "execution_count": 0,
      "outputs": []
    },
    {
      "cell_type": "code",
      "metadata": {
        "id": "vFED6r0ACiwh",
        "colab_type": "code",
        "colab": {}
      },
      "source": [
        "for filename in glob.glob('/content/drive/My Drive/pythonlab2/natural_images/dog/*.jpg'):#dog images retrieving\n",
        "    imagenormal = cv2.imread(filename)\n",
        "    output1 = cv2.resize(imagenormal, (28,28))\n",
        "    train_images.append([output1,3])    "
      ],
      "execution_count": 0,
      "outputs": []
    },
    {
      "cell_type": "code",
      "metadata": {
        "id": "6hykdt9OCndM",
        "colab_type": "code",
        "colab": {}
      },
      "source": [
        "for filename in glob.glob('/content/drive/My Drive/pythonlab2/natural_images/flower/*.jpg'):#flower images retrieving\n",
        "    imagenormal = cv2.imread(filename)\n",
        "    output1 = cv2.resize(imagenormal, (28,28))\n",
        "    train_images.append([output1,4])    "
      ],
      "execution_count": 0,
      "outputs": []
    },
    {
      "cell_type": "code",
      "metadata": {
        "id": "X8AHwpaDCvov",
        "colab_type": "code",
        "colab": {}
      },
      "source": [
        "for filename in glob.glob('/content/drive/My Drive/pythonlab2/natural_images/fruit/*.jpg'):#fruit images retrieving\n",
        "    imagenormal = cv2.imread(filename)\n",
        "    output1 = cv2.resize(imagenormal, (28,28))\n",
        "    train_images.append([output1,5])    "
      ],
      "execution_count": 0,
      "outputs": []
    },
    {
      "cell_type": "code",
      "metadata": {
        "id": "TlvTsxk5C02Q",
        "colab_type": "code",
        "colab": {}
      },
      "source": [
        "for filename in glob.glob('/content/drive/My Drive/pythonlab2/natural_images/motorbike/*.jpg'):#motorbike images retrieving\n",
        "    imagenormal = cv2.imread(filename)\n",
        "    output1 = cv2.resize(imagenormal, (28,28))\n",
        "    train_images.append([output1,6])    "
      ],
      "execution_count": 0,
      "outputs": []
    },
    {
      "cell_type": "code",
      "metadata": {
        "id": "sWLMSf_pC6Iw",
        "colab_type": "code",
        "colab": {}
      },
      "source": [
        "for filename in glob.glob('/content/drive/My Drive/pythonlab2/natural_images/person/*.jpg'):#person images retrieving\n",
        "    imagenormal = cv2.imread(filename)\n",
        "    output1 = cv2.resize(imagenormal, (28,28))\n",
        "    train_images.append([output1,7])    "
      ],
      "execution_count": 0,
      "outputs": []
    },
    {
      "cell_type": "code",
      "metadata": {
        "id": "1w7WhsToeoDW",
        "colab_type": "code",
        "colab": {}
      },
      "source": [
        "x=[]\n",
        "y=[]\n",
        "for im,label in train_images:\n",
        "  x.append(im)\n",
        "  y.append(label)"
      ],
      "execution_count": 0,
      "outputs": []
    },
    {
      "cell_type": "code",
      "metadata": {
        "id": "msSpe3w-etO2",
        "colab_type": "code",
        "colab": {}
      },
      "source": [
        "x=np.array(x).reshape(-1,28,28,3) #reshape the size"
      ],
      "execution_count": 0,
      "outputs": []
    },
    {
      "cell_type": "code",
      "metadata": {
        "id": "lqRPcIPLewtP",
        "colab_type": "code",
        "colab": {}
      },
      "source": [
        "x_train,x_test,y_train,y_test=train_test_split(x,y,test_size=0.2, random_state=3)"
      ],
      "execution_count": 0,
      "outputs": []
    },
    {
      "cell_type": "code",
      "metadata": {
        "id": "IZWG4Z-se2Yh",
        "colab_type": "code",
        "colab": {
          "base_uri": "https://localhost:8080/",
          "height": 280
        },
        "outputId": "79864809-c7e9-4ec6-b85a-681de8de8aaa"
      },
      "source": [
        "import matplotlib.pyplot as plt #displaying the image predicted\n",
        "plt.imshow(x_train[10,:,:],cmap='gray')\n",
        "plt.title('Ground Truth : {}'.format(y_train[10]))\n",
        "plt.show()"
      ],
      "execution_count": 94,
      "outputs": [
        {
          "output_type": "display_data",
          "data": {
            "image/png": "[encoded data removed]",
            "text/plain": [
              "<Figure size 432x288 with 1 Axes>"
            ]
          },
          "metadata": {
            "tags": [],
            "needs_background": "light"
          }
        }
      ]
    },
    {
      "cell_type": "code",
      "metadata": {
        "id": "hTzxftLYe4jw",
        "colab_type": "code",
        "colab": {}
      },
      "source": [
        "x_test = x_test.astype('float32')\n",
        "x_train = x_train.astype('float32')\n",
        "x_train = x_train / 255.0\n",
        "x_test = x_test / 255.0\n",
        "\n",
        "y_train = np_utils.to_categorical(y_train)\n",
        "y_test = np_utils.to_categorical(y_test)\n",
        "num_classes = y_test.shape[1]"
      ],
      "execution_count": 0,
      "outputs": []
    },
    {
      "cell_type": "code",
      "metadata": {
        "id": "wTTG55Tbe9tN",
        "colab_type": "code",
        "colab": {}
      },
      "source": [
        "model = Sequential() #creating the sequential model\n",
        "model.add(Conv2D(64, (3, 3), input_shape=(x_train.shape[1:]), padding='same', activation='relu'))\n",
        "model.add(Dropout(0.5))\n",
        "model.add(MaxPooling2D(pool_size=(2, 2)))\n",
        "model.add(Dropout(0.5))\n",
        "model.add(Flatten())\n",
        "model.add(Dense(64, activation='relu', kernel_constraint=maxnorm(3)))\n",
        "model.add(Dropout(0.3))\n",
        "model.add(Dense(num_classes, activation='softmax'))"
      ],
      "execution_count": 0,
      "outputs": []
    },
    {
      "cell_type": "code",
      "metadata": {
        "id": "DWfUehgffF-j",
        "colab_type": "code",
        "colab": {}
      },
      "source": [
        "epochs = 10\n",
        "lrate = 0.001\n",
        "decay = lrate/epochs\n",
        "sgd = Adam(lr=lrate)\n",
        "model.compile(loss='binary_crossentropy', optimizer=sgd, metrics=['accuracy'])"
      ],
      "execution_count": 0,
      "outputs": []
    },
    {
      "cell_type": "code",
      "metadata": {
        "id": "rXXaUkmOfJBX",
        "colab_type": "code",
        "colab": {
          "base_uri": "https://localhost:8080/",
          "height": 369
        },
        "outputId": "3474e70a-ab4e-4f29-9eb0-f72c39593191"
      },
      "source": [
        "h=model.fit(x_train, y_train, validation_data=(x_test, y_test), epochs=epochs, batch_size=64) #fitting the model"
      ],
      "execution_count": 88,
      "outputs": [
        {
          "output_type": "stream",
          "text": [
            "Train on 5527 samples, validate on 1382 samples\n",
            "Epoch 1/10\n",
            "5527/5527 [==============================] - 10s 2ms/step - loss: 0.2593 - accuracy: 0.9046 - val_loss: 0.1931 - val_accuracy: 0.9253\n",
            "Epoch 2/10\n",
            "5527/5527 [==============================] - 10s 2ms/step - loss: 0.1615 - accuracy: 0.9381 - val_loss: 0.1410 - val_accuracy: 0.9517\n",
            "Epoch 3/10\n",
            "5527/5527 [==============================] - 10s 2ms/step - loss: 0.1239 - accuracy: 0.9516 - val_loss: 0.1175 - val_accuracy: 0.9560\n",
            "Epoch 4/10\n",
            "5527/5527 [==============================] - 10s 2ms/step - loss: 0.1106 - accuracy: 0.9552 - val_loss: 0.1038 - val_accuracy: 0.9587\n",
            "Epoch 5/10\n",
            "5527/5527 [==============================] - 10s 2ms/step - loss: 0.1018 - accuracy: 0.9585 - val_loss: 0.1013 - val_accuracy: 0.9598\n",
            "Epoch 6/10\n",
            "5527/5527 [==============================] - 10s 2ms/step - loss: 0.0934 - accuracy: 0.9622 - val_loss: 0.0963 - val_accuracy: 0.9623\n",
            "Epoch 7/10\n",
            "5527/5527 [==============================] - 10s 2ms/step - loss: 0.0892 - accuracy: 0.9627 - val_loss: 0.0900 - val_accuracy: 0.9650\n",
            "Epoch 8/10\n",
            "5527/5527 [==============================] - 10s 2ms/step - loss: 0.0854 - accuracy: 0.9646 - val_loss: 0.0879 - val_accuracy: 0.9650\n",
            "Epoch 9/10\n",
            "5527/5527 [==============================] - 10s 2ms/step - loss: 0.0813 - accuracy: 0.9664 - val_loss: 0.0820 - val_accuracy: 0.9686\n",
            "Epoch 10/10\n",
            "5527/5527 [==============================] - 10s 2ms/step - loss: 0.0813 - accuracy: 0.9663 - val_loss: 0.0854 - val_accuracy: 0.9669\n"
          ],
          "name": "stdout"
        }
      ]
    },
    {
      "cell_type": "code",
      "metadata": {
        "id": "1cW2SKMJfteM",
        "colab_type": "code",
        "colab": {
          "base_uri": "https://localhost:8080/",
          "height": 50
        },
        "outputId": "3e8a32bf-3848-4392-a173-2acd4d8427ea"
      },
      "source": [
        "x1=model.predict_classes(x_test[[2],:]) #predicting the model\n",
        "print(x1[0])\n",
        "print(y_test[2])\n"
      ],
      "execution_count": 89,
      "outputs": [
        {
          "output_type": "stream",
          "text": [
            "6\n",
            "[0. 0. 0. 0. 0. 0. 1. 0.]\n"
          ],
          "name": "stdout"
        }
      ]
    },
    {
      "cell_type": "code",
      "metadata": {
        "id": "UzWFZZ9hf6PE",
        "colab_type": "code",
        "colab": {
          "base_uri": "https://localhost:8080/",
          "height": 280
        },
        "outputId": "e9a1e872-5745-4a18-ce07-10afa1775453"
      },
      "source": [
        "import matplotlib.pyplot as plt #displaying the predicted image\n",
        "plt.imshow(x_test[2,:,:],cmap='gray')\n",
        "plt.title('Ground Truth : {}'.format(y_test[2]))\n",
        "plt.show()"
      ],
      "execution_count": 90,
      "outputs": [
        {
          "output_type": "display_data",
          "data": {
            "image/png": "[encoded data removed]",
            "text/plain": [
              "<Figure size 432x288 with 1 Axes>"
            ]
          },
          "metadata": {
            "tags": [],
            "needs_background": "light"
          }
        }
      ]
    },
    {
      "cell_type": "code",
      "metadata": {
        "id": "LflPhjGegBY9",
        "colab_type": "code",
        "colab": {}
      },
      "source": [
        "model.save(\"jaswanth.h5\") #saving the modxel"
      ],
      "execution_count": 0,
      "outputs": []
    },
    {
      "cell_type": "code",
      "metadata": {
        "id": "553FhZm3gQrQ",
        "colab_type": "code",
        "colab": {
          "base_uri": "https://localhost:8080/",
          "height": 295
        },
        "outputId": "b01be383-4e48-4688-f6a0-f1d7c4c78e45"
      },
      "source": [
        "import matplotlib.pyplot as plt #plotting the model accuracy\n",
        "plt.plot(h.history['accuracy'])\n",
        "plt.plot(h.history['val_accuracy'])\n",
        "plt.plot(h.history['loss'])\n",
        "plt.plot(h.history['val_loss'])\n",
        "plt.title('model accuracy')\n",
        "plt.ylabel('accuracy')\n",
        "plt.xlabel('epoch')\n",
        "plt.legend(['accuray', 'validation accuracy','loss','val_loss'])\n",
        "plt.show()"
      ],
      "execution_count": 91,
      "outputs": [
        {
          "output_type": "display_data",
          "data": {
            "image/png": "[encoded data removed]",
            "text/plain": [
              "<Figure size 432x288 with 1 Axes>"
            ]
          },
          "metadata": {
            "tags": [],
            "needs_background": "light"
          }
        }
      ]
    }
  ]
}